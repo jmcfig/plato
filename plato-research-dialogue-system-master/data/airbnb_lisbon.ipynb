{
 "cells": [
  {
   "cell_type": "code",
   "execution_count": 29,
   "metadata": {},
   "outputs": [],
   "source": [
    "import pandas as pd"
   ]
  },
  {
   "cell_type": "code",
   "execution_count": 30,
   "metadata": {},
   "outputs": [
    {
     "data": {
      "text/plain": [
       "Index(['id', 'listing_url', 'scrape_id', 'last_scraped', 'name', 'description',\n",
       "       'neighborhood_overview', 'picture_url', 'host_id', 'host_url',\n",
       "       'host_name', 'host_since', 'host_location', 'host_about',\n",
       "       'host_response_time', 'host_response_rate', 'host_acceptance_rate',\n",
       "       'host_is_superhost', 'host_thumbnail_url', 'host_picture_url',\n",
       "       'host_neighbourhood', 'host_listings_count',\n",
       "       'host_total_listings_count', 'host_verifications',\n",
       "       'host_has_profile_pic', 'host_identity_verified', 'neighbourhood',\n",
       "       'neighbourhood_cleansed', 'neighbourhood_group_cleansed', 'latitude',\n",
       "       'longitude', 'property_type', 'room_type', 'accommodates', 'bathrooms',\n",
       "       'bathrooms_text', 'bedrooms', 'beds', 'amenities', 'price',\n",
       "       'minimum_nights', 'maximum_nights', 'minimum_minimum_nights',\n",
       "       'maximum_minimum_nights', 'minimum_maximum_nights',\n",
       "       'maximum_maximum_nights', 'minimum_nights_avg_ntm',\n",
       "       'maximum_nights_avg_ntm', 'calendar_updated', 'has_availability',\n",
       "       'availability_30', 'availability_60', 'availability_90',\n",
       "       'availability_365', 'calendar_last_scraped', 'number_of_reviews',\n",
       "       'number_of_reviews_ltm', 'number_of_reviews_l30d', 'first_review',\n",
       "       'last_review', 'review_scores_rating', 'review_scores_accuracy',\n",
       "       'review_scores_cleanliness', 'review_scores_checkin',\n",
       "       'review_scores_communication', 'review_scores_location',\n",
       "       'review_scores_value', 'license', 'instant_bookable',\n",
       "       'calculated_host_listings_count',\n",
       "       'calculated_host_listings_count_entire_homes',\n",
       "       'calculated_host_listings_count_private_rooms',\n",
       "       'calculated_host_listings_count_shared_rooms', 'reviews_per_month'],\n",
       "      dtype='object')"
      ]
     },
     "execution_count": 30,
     "metadata": {},
     "output_type": "execute_result"
    }
   ],
   "source": [
    "df = pd.read_csv('listings dec21.csv')\n",
    "df.columns"
   ]
  },
  {
   "cell_type": "code",
   "execution_count": 31,
   "metadata": {},
   "outputs": [
    {
     "name": "stderr",
     "output_type": "stream",
     "text": [
      "C:\\Users\\jmigu\\AppData\\Local\\Temp\\ipykernel_10304\\3411084862.py:2: SettingWithCopyWarning: \n",
      "A value is trying to be set on a copy of a slice from a DataFrame\n",
      "\n",
      "See the caveats in the documentation: https://pandas.pydata.org/pandas-docs/stable/user_guide/indexing.html#returning-a-view-versus-a-copy\n",
      "  short_df.dropna(inplace=True)\n"
     ]
    }
   ],
   "source": [
    "short_df = df[['id','name','neighbourhood_group_cleansed','price','property_type','host_name','review_scores_rating', 'latitude', 'longitude']]\n",
    "short_df.dropna(inplace=True)"
   ]
  },
  {
   "cell_type": "code",
   "execution_count": 32,
   "metadata": {},
   "outputs": [
    {
     "data": {
      "text/plain": [
       "id                              0\n",
       "name                            0\n",
       "neighbourhood_group_cleansed    0\n",
       "price                           0\n",
       "property_type                   0\n",
       "host_name                       0\n",
       "review_scores_rating            0\n",
       "latitude                        0\n",
       "longitude                       0\n",
       "dtype: int64"
      ]
     },
     "execution_count": 32,
     "metadata": {},
     "output_type": "execute_result"
    }
   ],
   "source": [
    "short_df.isna().sum()"
   ]
  },
  {
   "cell_type": "code",
   "execution_count": 33,
   "metadata": {},
   "outputs": [
    {
     "name": "stderr",
     "output_type": "stream",
     "text": [
      "C:\\Users\\jmigu\\AppData\\Local\\Temp\\ipykernel_10304\\2237161918.py:1: SettingWithCopyWarning: \n",
      "A value is trying to be set on a copy of a slice from a DataFrame.\n",
      "Try using .loc[row_indexer,col_indexer] = value instead\n",
      "\n",
      "See the caveats in the documentation: https://pandas.pydata.org/pandas-docs/stable/user_guide/indexing.html#returning-a-view-versus-a-copy\n",
      "  short_df.id = short_df.index\n"
     ]
    }
   ],
   "source": [
    "short_df.id = short_df.index"
   ]
  },
  {
   "cell_type": "code",
   "execution_count": 34,
   "metadata": {},
   "outputs": [],
   "source": [
    "short_df.set_index('id', inplace=True)"
   ]
  },
  {
   "cell_type": "code",
   "execution_count": 35,
   "metadata": {},
   "outputs": [
    {
     "name": "stderr",
     "output_type": "stream",
     "text": [
      "C:\\Users\\jmigu\\AppData\\Local\\Temp\\ipykernel_10304\\2138540533.py:1: SettingWithCopyWarning: \n",
      "A value is trying to be set on a copy of a slice from a DataFrame.\n",
      "Try using .loc[row_indexer,col_indexer] = value instead\n",
      "\n",
      "See the caveats in the documentation: https://pandas.pydata.org/pandas-docs/stable/user_guide/indexing.html#returning-a-view-versus-a-copy\n",
      "  short_df['coordinates'] = short_df.latitude.astype(str) + ', ' + short_df.longitude.astype(str)\n",
      "C:\\Users\\jmigu\\AppData\\Local\\Temp\\ipykernel_10304\\2138540533.py:2: SettingWithCopyWarning: \n",
      "A value is trying to be set on a copy of a slice from a DataFrame\n",
      "\n",
      "See the caveats in the documentation: https://pandas.pydata.org/pandas-docs/stable/user_guide/indexing.html#returning-a-view-versus-a-copy\n",
      "  short_df.drop(columns=['latitude', 'longitude'], inplace=True)\n"
     ]
    }
   ],
   "source": [
    "short_df['coordinates'] = short_df.latitude.astype(str) + ', ' + short_df.longitude.astype(str)\n",
    "short_df.drop(columns=['latitude', 'longitude'], inplace=True)"
   ]
  },
  {
   "cell_type": "code",
   "execution_count": 36,
   "metadata": {},
   "outputs": [],
   "source": [
    "X = short_df.price.str.replace('$', '').str.replace(',', '').astype(float)"
   ]
  },
  {
   "cell_type": "code",
   "execution_count": 37,
   "metadata": {},
   "outputs": [
    {
     "name": "stderr",
     "output_type": "stream",
     "text": [
      "C:\\Users\\jmigu\\AppData\\Local\\Temp\\ipykernel_10304\\3733342439.py:12: SettingWithCopyWarning: \n",
      "A value is trying to be set on a copy of a slice from a DataFrame.\n",
      "Try using .loc[row_indexer,col_indexer] = value instead\n",
      "\n",
      "See the caveats in the documentation: https://pandas.pydata.org/pandas-docs/stable/user_guide/indexing.html#returning-a-view-versus-a-copy\n",
      "  short_df['price'] = X.apply(price_category)\n"
     ]
    }
   ],
   "source": [
    "Q1 = X.quantile(0.25)\n",
    "Q3 = X.quantile(0.75)\n",
    "\n",
    "def price_category(price):\n",
    "    if price < Q1:\n",
    "        return 'Cheap'\n",
    "    elif price < Q3:\n",
    "        return 'Moderate'\n",
    "    else:\n",
    "        return 'Expensive'\n",
    "    \n",
    "short_df['price'] = X.apply(price_category)"
   ]
  },
  {
   "cell_type": "code",
   "execution_count": 38,
   "metadata": {},
   "outputs": [
    {
     "data": {
      "text/html": [
       "<div>\n",
       "<style scoped>\n",
       "    .dataframe tbody tr th:only-of-type {\n",
       "        vertical-align: middle;\n",
       "    }\n",
       "\n",
       "    .dataframe tbody tr th {\n",
       "        vertical-align: top;\n",
       "    }\n",
       "\n",
       "    .dataframe thead th {\n",
       "        text-align: right;\n",
       "    }\n",
       "</style>\n",
       "<table border=\"1\" class=\"dataframe\">\n",
       "  <thead>\n",
       "    <tr style=\"text-align: right;\">\n",
       "      <th></th>\n",
       "      <th>name</th>\n",
       "      <th>neighbourhood_group_cleansed</th>\n",
       "      <th>price</th>\n",
       "      <th>property_type</th>\n",
       "      <th>host_name</th>\n",
       "      <th>review_scores_rating</th>\n",
       "      <th>coordinates</th>\n",
       "    </tr>\n",
       "    <tr>\n",
       "      <th>id</th>\n",
       "      <th></th>\n",
       "      <th></th>\n",
       "      <th></th>\n",
       "      <th></th>\n",
       "      <th></th>\n",
       "      <th></th>\n",
       "      <th></th>\n",
       "    </tr>\n",
       "  </thead>\n",
       "  <tbody>\n",
       "    <tr>\n",
       "      <th>0</th>\n",
       "      <td>Belém 1 Bedroom Historical Apartment</td>\n",
       "      <td>Lisboa</td>\n",
       "      <td>Cheap</td>\n",
       "      <td>Entire rental unit</td>\n",
       "      <td>Bruno</td>\n",
       "      <td>4.50</td>\n",
       "      <td>38.6975, -9.19768</td>\n",
       "    </tr>\n",
       "    <tr>\n",
       "      <th>1</th>\n",
       "      <td>Heart of Alfama Lisbon Center - Cœur de l'Alfama</td>\n",
       "      <td>Lisboa</td>\n",
       "      <td>Moderate</td>\n",
       "      <td>Entire rental unit</td>\n",
       "      <td>Ellie</td>\n",
       "      <td>4.81</td>\n",
       "      <td>38.71241, -9.12706</td>\n",
       "    </tr>\n",
       "    <tr>\n",
       "      <th>2</th>\n",
       "      <td>Apartamento Alfama com vista para o rio!</td>\n",
       "      <td>Lisboa</td>\n",
       "      <td>Moderate</td>\n",
       "      <td>Entire rental unit</td>\n",
       "      <td>Bárbara</td>\n",
       "      <td>4.56</td>\n",
       "      <td>38.71082, -9.12719</td>\n",
       "    </tr>\n",
       "    <tr>\n",
       "      <th>3</th>\n",
       "      <td>Alfama Hill - Boutique apartment</td>\n",
       "      <td>Lisboa</td>\n",
       "      <td>Moderate</td>\n",
       "      <td>Entire rental unit</td>\n",
       "      <td>Mónica</td>\n",
       "      <td>4.80</td>\n",
       "      <td>38.71156, -9.12987</td>\n",
       "    </tr>\n",
       "    <tr>\n",
       "      <th>4</th>\n",
       "      <td>TheHOUSE - Your luxury home</td>\n",
       "      <td>Lisboa</td>\n",
       "      <td>Expensive</td>\n",
       "      <td>Entire rental unit</td>\n",
       "      <td>Francisco</td>\n",
       "      <td>4.92</td>\n",
       "      <td>38.71108, -9.15979</td>\n",
       "    </tr>\n",
       "    <tr>\n",
       "      <th>...</th>\n",
       "      <td>...</td>\n",
       "      <td>...</td>\n",
       "      <td>...</td>\n",
       "      <td>...</td>\n",
       "      <td>...</td>\n",
       "      <td>...</td>\n",
       "      <td>...</td>\n",
       "    </tr>\n",
       "    <tr>\n",
       "      <th>18401</th>\n",
       "      <td>Remédios River View - Two Bedroom</td>\n",
       "      <td>Lisboa</td>\n",
       "      <td>Moderate</td>\n",
       "      <td>Entire rental unit</td>\n",
       "      <td>Lisbon Best Choice</td>\n",
       "      <td>5.00</td>\n",
       "      <td>38.71232, -9.12797</td>\n",
       "    </tr>\n",
       "    <tr>\n",
       "      <th>18416</th>\n",
       "      <td>Terrace Lisbon Hostel - Single Room</td>\n",
       "      <td>Lisboa</td>\n",
       "      <td>Cheap</td>\n",
       "      <td>Private room in bed and breakfast</td>\n",
       "      <td>Terrace Lisbon</td>\n",
       "      <td>5.00</td>\n",
       "      <td>38.70036, -9.20453</td>\n",
       "    </tr>\n",
       "    <tr>\n",
       "      <th>18431</th>\n",
       "      <td>Quarto confortável ao lado do aeroporto</td>\n",
       "      <td>Loures</td>\n",
       "      <td>Cheap</td>\n",
       "      <td>Private room in rental unit</td>\n",
       "      <td>Priscila</td>\n",
       "      <td>5.00</td>\n",
       "      <td>38.79218546447847, -9.121564044089448</td>\n",
       "    </tr>\n",
       "    <tr>\n",
       "      <th>18436</th>\n",
       "      <td>SANDRA'S NEST - APARTMENT IN CASCAIS</td>\n",
       "      <td>Cascais</td>\n",
       "      <td>Expensive</td>\n",
       "      <td>Entire rental unit</td>\n",
       "      <td>Carla Martins NOOK AGENCY</td>\n",
       "      <td>5.00</td>\n",
       "      <td>38.69565, -9.42844</td>\n",
       "    </tr>\n",
       "    <tr>\n",
       "      <th>18481</th>\n",
       "      <td>Bica da Pedra, Bairro Alto</td>\n",
       "      <td>Lisboa</td>\n",
       "      <td>Moderate</td>\n",
       "      <td>Entire place</td>\n",
       "      <td>Luís</td>\n",
       "      <td>5.00</td>\n",
       "      <td>38.709004244635885, -9.146795177213429</td>\n",
       "    </tr>\n",
       "  </tbody>\n",
       "</table>\n",
       "<p>16001 rows × 7 columns</p>\n",
       "</div>"
      ],
      "text/plain": [
       "                                                   name  \\\n",
       "id                                                        \n",
       "0                  Belém 1 Bedroom Historical Apartment   \n",
       "1      Heart of Alfama Lisbon Center - Cœur de l'Alfama   \n",
       "2              Apartamento Alfama com vista para o rio!   \n",
       "3                      Alfama Hill - Boutique apartment   \n",
       "4                           TheHOUSE - Your luxury home   \n",
       "...                                                 ...   \n",
       "18401                 Remédios River View - Two Bedroom   \n",
       "18416               Terrace Lisbon Hostel - Single Room   \n",
       "18431           Quarto confortável ao lado do aeroporto   \n",
       "18436              SANDRA'S NEST - APARTMENT IN CASCAIS   \n",
       "18481                        Bica da Pedra, Bairro Alto   \n",
       "\n",
       "      neighbourhood_group_cleansed      price  \\\n",
       "id                                              \n",
       "0                           Lisboa      Cheap   \n",
       "1                           Lisboa   Moderate   \n",
       "2                           Lisboa   Moderate   \n",
       "3                           Lisboa   Moderate   \n",
       "4                           Lisboa  Expensive   \n",
       "...                            ...        ...   \n",
       "18401                       Lisboa   Moderate   \n",
       "18416                       Lisboa      Cheap   \n",
       "18431                       Loures      Cheap   \n",
       "18436                      Cascais  Expensive   \n",
       "18481                       Lisboa   Moderate   \n",
       "\n",
       "                           property_type                  host_name  \\\n",
       "id                                                                    \n",
       "0                     Entire rental unit                      Bruno   \n",
       "1                     Entire rental unit                      Ellie   \n",
       "2                     Entire rental unit                    Bárbara   \n",
       "3                     Entire rental unit                     Mónica   \n",
       "4                     Entire rental unit                  Francisco   \n",
       "...                                  ...                        ...   \n",
       "18401                 Entire rental unit         Lisbon Best Choice   \n",
       "18416  Private room in bed and breakfast             Terrace Lisbon   \n",
       "18431        Private room in rental unit                   Priscila   \n",
       "18436                 Entire rental unit  Carla Martins NOOK AGENCY   \n",
       "18481                       Entire place                       Luís   \n",
       "\n",
       "       review_scores_rating                             coordinates  \n",
       "id                                                                   \n",
       "0                      4.50                       38.6975, -9.19768  \n",
       "1                      4.81                      38.71241, -9.12706  \n",
       "2                      4.56                      38.71082, -9.12719  \n",
       "3                      4.80                      38.71156, -9.12987  \n",
       "4                      4.92                      38.71108, -9.15979  \n",
       "...                     ...                                     ...  \n",
       "18401                  5.00                      38.71232, -9.12797  \n",
       "18416                  5.00                      38.70036, -9.20453  \n",
       "18431                  5.00   38.79218546447847, -9.121564044089448  \n",
       "18436                  5.00                      38.69565, -9.42844  \n",
       "18481                  5.00  38.709004244635885, -9.146795177213429  \n",
       "\n",
       "[16001 rows x 7 columns]"
      ]
     },
     "execution_count": 38,
     "metadata": {},
     "output_type": "execute_result"
    }
   ],
   "source": [
    "short_df"
   ]
  },
  {
   "cell_type": "code",
   "execution_count": 39,
   "metadata": {},
   "outputs": [],
   "source": [
    "short_df.review_scores_rating.value_counts().sort_index()\n",
    "\n",
    "short_df = short_df[short_df.review_scores_rating > 0]"
   ]
  },
  {
   "cell_type": "code",
   "execution_count": 40,
   "metadata": {},
   "outputs": [],
   "source": [
    "short_df.columns = short_df.columns.str.replace('review_scores_rating', 'rating')\n",
    "short_df.columns = short_df.columns.str.replace('neighbourhood_group_cleansed', 'town')\n",
    "short_df.columns = short_df.columns.str.replace('property_type', 'type')"
   ]
  },
  {
   "cell_type": "code",
   "execution_count": 41,
   "metadata": {},
   "outputs": [
    {
     "data": {
      "text/html": [
       "<div>\n",
       "<style scoped>\n",
       "    .dataframe tbody tr th:only-of-type {\n",
       "        vertical-align: middle;\n",
       "    }\n",
       "\n",
       "    .dataframe tbody tr th {\n",
       "        vertical-align: top;\n",
       "    }\n",
       "\n",
       "    .dataframe thead th {\n",
       "        text-align: right;\n",
       "    }\n",
       "</style>\n",
       "<table border=\"1\" class=\"dataframe\">\n",
       "  <thead>\n",
       "    <tr style=\"text-align: right;\">\n",
       "      <th></th>\n",
       "      <th>name</th>\n",
       "      <th>town</th>\n",
       "      <th>price</th>\n",
       "      <th>type</th>\n",
       "      <th>host_name</th>\n",
       "      <th>rating</th>\n",
       "      <th>coordinates</th>\n",
       "    </tr>\n",
       "    <tr>\n",
       "      <th>id</th>\n",
       "      <th></th>\n",
       "      <th></th>\n",
       "      <th></th>\n",
       "      <th></th>\n",
       "      <th></th>\n",
       "      <th></th>\n",
       "      <th></th>\n",
       "    </tr>\n",
       "  </thead>\n",
       "  <tbody>\n",
       "    <tr>\n",
       "      <th>0</th>\n",
       "      <td>Belém 1 Bedroom Historical Apartment</td>\n",
       "      <td>Lisboa</td>\n",
       "      <td>Cheap</td>\n",
       "      <td>Entire rental unit</td>\n",
       "      <td>Bruno</td>\n",
       "      <td>4.50</td>\n",
       "      <td>38.6975, -9.19768</td>\n",
       "    </tr>\n",
       "    <tr>\n",
       "      <th>1</th>\n",
       "      <td>Heart of Alfama Lisbon Center - Cœur de l'Alfama</td>\n",
       "      <td>Lisboa</td>\n",
       "      <td>Moderate</td>\n",
       "      <td>Entire rental unit</td>\n",
       "      <td>Ellie</td>\n",
       "      <td>4.81</td>\n",
       "      <td>38.71241, -9.12706</td>\n",
       "    </tr>\n",
       "    <tr>\n",
       "      <th>2</th>\n",
       "      <td>Apartamento Alfama com vista para o rio!</td>\n",
       "      <td>Lisboa</td>\n",
       "      <td>Moderate</td>\n",
       "      <td>Entire rental unit</td>\n",
       "      <td>Bárbara</td>\n",
       "      <td>4.56</td>\n",
       "      <td>38.71082, -9.12719</td>\n",
       "    </tr>\n",
       "    <tr>\n",
       "      <th>3</th>\n",
       "      <td>Alfama Hill - Boutique apartment</td>\n",
       "      <td>Lisboa</td>\n",
       "      <td>Moderate</td>\n",
       "      <td>Entire rental unit</td>\n",
       "      <td>Mónica</td>\n",
       "      <td>4.80</td>\n",
       "      <td>38.71156, -9.12987</td>\n",
       "    </tr>\n",
       "    <tr>\n",
       "      <th>4</th>\n",
       "      <td>TheHOUSE - Your luxury home</td>\n",
       "      <td>Lisboa</td>\n",
       "      <td>Expensive</td>\n",
       "      <td>Entire rental unit</td>\n",
       "      <td>Francisco</td>\n",
       "      <td>4.92</td>\n",
       "      <td>38.71108, -9.15979</td>\n",
       "    </tr>\n",
       "    <tr>\n",
       "      <th>...</th>\n",
       "      <td>...</td>\n",
       "      <td>...</td>\n",
       "      <td>...</td>\n",
       "      <td>...</td>\n",
       "      <td>...</td>\n",
       "      <td>...</td>\n",
       "      <td>...</td>\n",
       "    </tr>\n",
       "    <tr>\n",
       "      <th>18401</th>\n",
       "      <td>Remédios River View - Two Bedroom</td>\n",
       "      <td>Lisboa</td>\n",
       "      <td>Moderate</td>\n",
       "      <td>Entire rental unit</td>\n",
       "      <td>Lisbon Best Choice</td>\n",
       "      <td>5.00</td>\n",
       "      <td>38.71232, -9.12797</td>\n",
       "    </tr>\n",
       "    <tr>\n",
       "      <th>18416</th>\n",
       "      <td>Terrace Lisbon Hostel - Single Room</td>\n",
       "      <td>Lisboa</td>\n",
       "      <td>Cheap</td>\n",
       "      <td>Private room in bed and breakfast</td>\n",
       "      <td>Terrace Lisbon</td>\n",
       "      <td>5.00</td>\n",
       "      <td>38.70036, -9.20453</td>\n",
       "    </tr>\n",
       "    <tr>\n",
       "      <th>18431</th>\n",
       "      <td>Quarto confortável ao lado do aeroporto</td>\n",
       "      <td>Loures</td>\n",
       "      <td>Cheap</td>\n",
       "      <td>Private room in rental unit</td>\n",
       "      <td>Priscila</td>\n",
       "      <td>5.00</td>\n",
       "      <td>38.79218546447847, -9.121564044089448</td>\n",
       "    </tr>\n",
       "    <tr>\n",
       "      <th>18436</th>\n",
       "      <td>SANDRA'S NEST - APARTMENT IN CASCAIS</td>\n",
       "      <td>Cascais</td>\n",
       "      <td>Expensive</td>\n",
       "      <td>Entire rental unit</td>\n",
       "      <td>Carla Martins NOOK AGENCY</td>\n",
       "      <td>5.00</td>\n",
       "      <td>38.69565, -9.42844</td>\n",
       "    </tr>\n",
       "    <tr>\n",
       "      <th>18481</th>\n",
       "      <td>Bica da Pedra, Bairro Alto</td>\n",
       "      <td>Lisboa</td>\n",
       "      <td>Moderate</td>\n",
       "      <td>Entire place</td>\n",
       "      <td>Luís</td>\n",
       "      <td>5.00</td>\n",
       "      <td>38.709004244635885, -9.146795177213429</td>\n",
       "    </tr>\n",
       "  </tbody>\n",
       "</table>\n",
       "<p>15916 rows × 7 columns</p>\n",
       "</div>"
      ],
      "text/plain": [
       "                                                   name     town      price  \\\n",
       "id                                                                            \n",
       "0                  Belém 1 Bedroom Historical Apartment   Lisboa      Cheap   \n",
       "1      Heart of Alfama Lisbon Center - Cœur de l'Alfama   Lisboa   Moderate   \n",
       "2              Apartamento Alfama com vista para o rio!   Lisboa   Moderate   \n",
       "3                      Alfama Hill - Boutique apartment   Lisboa   Moderate   \n",
       "4                           TheHOUSE - Your luxury home   Lisboa  Expensive   \n",
       "...                                                 ...      ...        ...   \n",
       "18401                 Remédios River View - Two Bedroom   Lisboa   Moderate   \n",
       "18416               Terrace Lisbon Hostel - Single Room   Lisboa      Cheap   \n",
       "18431           Quarto confortável ao lado do aeroporto   Loures      Cheap   \n",
       "18436              SANDRA'S NEST - APARTMENT IN CASCAIS  Cascais  Expensive   \n",
       "18481                        Bica da Pedra, Bairro Alto   Lisboa   Moderate   \n",
       "\n",
       "                                    type                  host_name  rating  \\\n",
       "id                                                                            \n",
       "0                     Entire rental unit                      Bruno    4.50   \n",
       "1                     Entire rental unit                      Ellie    4.81   \n",
       "2                     Entire rental unit                    Bárbara    4.56   \n",
       "3                     Entire rental unit                     Mónica    4.80   \n",
       "4                     Entire rental unit                  Francisco    4.92   \n",
       "...                                  ...                        ...     ...   \n",
       "18401                 Entire rental unit         Lisbon Best Choice    5.00   \n",
       "18416  Private room in bed and breakfast             Terrace Lisbon    5.00   \n",
       "18431        Private room in rental unit                   Priscila    5.00   \n",
       "18436                 Entire rental unit  Carla Martins NOOK AGENCY    5.00   \n",
       "18481                       Entire place                       Luís    5.00   \n",
       "\n",
       "                                  coordinates  \n",
       "id                                             \n",
       "0                           38.6975, -9.19768  \n",
       "1                          38.71241, -9.12706  \n",
       "2                          38.71082, -9.12719  \n",
       "3                          38.71156, -9.12987  \n",
       "4                          38.71108, -9.15979  \n",
       "...                                       ...  \n",
       "18401                      38.71232, -9.12797  \n",
       "18416                      38.70036, -9.20453  \n",
       "18431   38.79218546447847, -9.121564044089448  \n",
       "18436                      38.69565, -9.42844  \n",
       "18481  38.709004244635885, -9.146795177213429  \n",
       "\n",
       "[15916 rows x 7 columns]"
      ]
     },
     "execution_count": 41,
     "metadata": {},
     "output_type": "execute_result"
    }
   ],
   "source": [
    "short_df"
   ]
  },
  {
   "cell_type": "code",
   "execution_count": 42,
   "metadata": {},
   "outputs": [
    {
     "name": "stderr",
     "output_type": "stream",
     "text": [
      "C:\\Users\\jmigu\\AppData\\Local\\Temp\\ipykernel_10304\\893839160.py:2: SettingWithCopyWarning: \n",
      "A value is trying to be set on a copy of a slice from a DataFrame.\n",
      "Try using .loc[row_indexer,col_indexer] = value instead\n",
      "\n",
      "See the caveats in the documentation: https://pandas.pydata.org/pandas-docs/stable/user_guide/indexing.html#returning-a-view-versus-a-copy\n",
      "  short_df[['name','town','host_name']] = short_df[['name','town','host_name']].apply(lambda x: x.str.normalize('NFKD').str.encode('ascii', errors='ignore').str.decode('utf-8'))\n"
     ]
    }
   ],
   "source": [
    "#remove accents\n",
    "short_df[['name','town','host_name']] = short_df[['name','town','host_name']].apply(lambda x: x.str.normalize('NFKD').str.encode('ascii', errors='ignore').str.decode('utf-8'))"
   ]
  },
  {
   "cell_type": "code",
   "execution_count": null,
   "metadata": {},
   "outputs": [],
   "source": []
  },
  {
   "cell_type": "code",
   "execution_count": 43,
   "metadata": {},
   "outputs": [],
   "source": [
    "\n",
    "\n",
    "short_df = short_df.groupby('town').head(10)\n",
    "short_df.town.value_counts()\n",
    "\n",
    "short_df = short_df.head(110)\n",
    "\n"
   ]
  },
  {
   "cell_type": "code",
   "execution_count": 44,
   "metadata": {},
   "outputs": [],
   "source": [
    "short_df.to_csv('lisbon.csv')"
   ]
  },
  {
   "cell_type": "code",
   "execution_count": 45,
   "metadata": {},
   "outputs": [
    {
     "data": {
      "text/plain": [
       "110"
      ]
     },
     "execution_count": 45,
     "metadata": {},
     "output_type": "execute_result"
    }
   ],
   "source": [
    "len(short_df)"
   ]
  },
  {
   "cell_type": "code",
   "execution_count": null,
   "metadata": {},
   "outputs": [],
   "source": []
  }
 ],
 "metadata": {
  "kernelspec": {
   "display_name": "base",
   "language": "python",
   "name": "python3"
  },
  "language_info": {
   "codemirror_mode": {
    "name": "ipython",
    "version": 3
   },
   "file_extension": ".py",
   "mimetype": "text/x-python",
   "name": "python",
   "nbconvert_exporter": "python",
   "pygments_lexer": "ipython3",
   "version": "3.12.7"
  }
 },
 "nbformat": 4,
 "nbformat_minor": 2
}
